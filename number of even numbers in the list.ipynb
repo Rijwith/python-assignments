{
 "cells": [
  {
   "cell_type": "code",
   "execution_count": 1,
   "metadata": {},
   "outputs": [
    {
     "name": "stdout",
     "output_type": "stream",
     "text": [
      "even numbers in the given list : 4\n"
     ]
    }
   ],
   "source": [
    "# Given a list of numbers, find out how many even numbers it has.\n",
    "\n",
    "list_num=[3,2,4,5,6,7,8]\n",
    "count_even=0\n",
    "# iterating over the list.\n",
    "for i in list_num:\n",
    "    # even numbers, which are divisible by 2.\n",
    "    if i%2==0:\n",
    "        # add count if it is an even number.\n",
    "        count_even+=1\n",
    "print(\"even numbers in the given list :\",count_even)"
   ]
  }
 ],
 "metadata": {
  "kernelspec": {
   "display_name": "Python 3",
   "language": "python",
   "name": "python3"
  },
  "language_info": {
   "codemirror_mode": {
    "name": "ipython",
    "version": 3
   },
   "file_extension": ".py",
   "mimetype": "text/x-python",
   "name": "python",
   "nbconvert_exporter": "python",
   "pygments_lexer": "ipython3",
   "version": "3.11.5"
  }
 },
 "nbformat": 4,
 "nbformat_minor": 2
}
