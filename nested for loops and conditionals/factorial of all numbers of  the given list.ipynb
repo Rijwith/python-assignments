{
 "cells": [
  {
   "cell_type": "code",
   "execution_count": 7,
   "metadata": {},
   "outputs": [
    {
     "name": "stdout",
     "output_type": "stream",
     "text": [
      "factorial of 2 is 2\n",
      "factorial of 3 is 6\n",
      "factorial of 4 is 24\n",
      "factorial of 5 is 120\n",
      "factorial of 6 is 720\n",
      "factorial of 1 is 1\n",
      "factorial of 9 is 362880\n",
      "factorial of 0 is 1\n",
      "\n",
      "\n",
      "[2, 6, 24, 120, 720, 1, 362880, 1]\n"
     ]
    }
   ],
   "source": [
    "# Given a list of positive integers, find the factorial of all the numbers.\n",
    "\n",
    "list_num=[2,3,4,5,6,1,9,0]\n",
    "list_fact=[]\n",
    "for i in list_num:\n",
    "    fact=1\n",
    "    # taking a number from list and alliterate upto the number.\n",
    "    for j in range(1,i+1):\n",
    "        fact*=j\n",
    "    # adding factorial of the given numbers into the empty list.\n",
    "    list_fact.append(fact)\n",
    "    print(\"factorial of\",i,\"is\",fact)\n",
    "print(\"\\n\")\n",
    "print(list_fact)"
   ]
  }
 ],
 "metadata": {
  "kernelspec": {
   "display_name": "Python 3",
   "language": "python",
   "name": "python3"
  },
  "language_info": {
   "codemirror_mode": {
    "name": "ipython",
    "version": 3
   },
   "file_extension": ".py",
   "mimetype": "text/x-python",
   "name": "python",
   "nbconvert_exporter": "python",
   "pygments_lexer": "ipython3",
   "version": "3.11.5"
  }
 },
 "nbformat": 4,
 "nbformat_minor": 2
}
