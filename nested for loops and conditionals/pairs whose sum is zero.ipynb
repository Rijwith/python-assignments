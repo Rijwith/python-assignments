{
 "cells": [
  {
   "cell_type": "code",
   "execution_count": 1,
   "metadata": {},
   "outputs": [
    {
     "name": "stdout",
     "output_type": "stream",
     "text": [
      "Pair whose sum zero is: 2 -2\n",
      "Pair whose sum zero is: 4 -4\n",
      "Pair whose sum zero is: 6 -6\n",
      "Pair whose sum zero is: 8 -8\n"
     ]
    }
   ],
   "source": [
    "# Given a list of integers, find all pairs of integers in the list whose sum is zero.\n",
    "\n",
    "list_num = [2,4,6,3,8,-2,-4,-6,-8,9]\n",
    "for i in list_num:\n",
    "    for j in list_num:\n",
    "        # comparing index value to avoid repeating the taken number.\n",
    "        if i + j == 0 and list_num.index(i) < list_num.index(j):\n",
    "            print(\"Pair whose sum zero is:\", i, j)"
   ]
  }
 ],
 "metadata": {
  "kernelspec": {
   "display_name": "Python 3",
   "language": "python",
   "name": "python3"
  },
  "language_info": {
   "codemirror_mode": {
    "name": "ipython",
    "version": 3
   },
   "file_extension": ".py",
   "mimetype": "text/x-python",
   "name": "python",
   "nbconvert_exporter": "python",
   "pygments_lexer": "ipython3",
   "version": "3.11.5"
  }
 },
 "nbformat": 4,
 "nbformat_minor": 2
}
