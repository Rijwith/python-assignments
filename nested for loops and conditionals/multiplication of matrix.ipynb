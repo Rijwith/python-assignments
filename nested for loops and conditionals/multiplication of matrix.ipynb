{
 "cells": [
  {
   "cell_type": "code",
   "execution_count": 2,
   "metadata": {},
   "outputs": [
    {
     "name": "stdout",
     "output_type": "stream",
     "text": [
      "multiplication of two matrices is\n",
      "[22, 33, 23]\n",
      "[55, 81, 56]\n",
      "[88, 129, 89]\n"
     ]
    }
   ],
   "source": [
    "# given two 3*3 matrix with values stored in two lists of length 9,find their product.\n",
    "\n",
    "lst_1=[1,2,3,4,5,6,7,8,9]\n",
    "lst_2=[2,3,5,7,9,0,2,4,6]\n",
    "lst_matrix=[[0,0,0],[0,0,0],[0,0,0]]\n",
    "# first and 2nd loop shows the position of element for result matrix \n",
    "for i in range(3):    \n",
    "    for j in range(3): \n",
    "        for k in range(3):\n",
    "            lst_matrix[i][j]+=lst_1[i*3+k]*lst_2[k*3+j]\n",
    "print(\"multiplication of two matrices is\")\n",
    "for i in lst_matrix:\n",
    "    print(i)"
   ]
  }
 ],
 "metadata": {
  "kernelspec": {
   "display_name": "Python 3",
   "language": "python",
   "name": "python3"
  },
  "language_info": {
   "codemirror_mode": {
    "name": "ipython",
    "version": 3
   },
   "file_extension": ".py",
   "mimetype": "text/x-python",
   "name": "python",
   "nbconvert_exporter": "python",
   "pygments_lexer": "ipython3",
   "version": "3.11.5"
  }
 },
 "nbformat": 4,
 "nbformat_minor": 2
}
