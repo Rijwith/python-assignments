{
 "cells": [
  {
   "cell_type": "code",
   "execution_count": 5,
   "metadata": {},
   "outputs": [
    {
     "data": {
      "text/plain": [
       "('mom', 'its a palindrome')"
      ]
     },
     "execution_count": 5,
     "metadata": {},
     "output_type": "execute_result"
    }
   ],
   "source": [
    "# given a string input, find out if its a palindrome.\n",
    "\n",
    "def func_str(str1):\n",
    "    # reversing the string without using reverse function.\n",
    "    str2=str1[::-1]\n",
    "    # palindrome is nothing but a mirror image.\n",
    "    if str2==str1:\n",
    "        return str1,'its a palindrome'\n",
    "    else:\n",
    "        return str1,'it not a palindrome'\n",
    "\n",
    "func_str(\"mom\")"
   ]
  }
 ],
 "metadata": {
  "kernelspec": {
   "display_name": "Python 3",
   "language": "python",
   "name": "python3"
  },
  "language_info": {
   "codemirror_mode": {
    "name": "ipython",
    "version": 3
   },
   "file_extension": ".py",
   "mimetype": "text/x-python",
   "name": "python",
   "nbconvert_exporter": "python",
   "pygments_lexer": "ipython3",
   "version": "3.11.5"
  }
 },
 "nbformat": 4,
 "nbformat_minor": 2
}
