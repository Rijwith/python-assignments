{
 "cells": [
  {
   "cell_type": "code",
   "execution_count": null,
   "metadata": {},
   "outputs": [],
   "source": [
    "# Given two numbers, find its Greatest Common Divisor (Divisor).\n",
    "\n",
    "num_1=int(input(\"enter first number\"))\n",
    "print(\"num_1 =\",num_1)\n",
    "num_2=int(input(\"enter second number\"))\n",
    "print(\"num_2 =\",num_2)\n",
    "\n",
    "#check for the minimum number.\n",
    "if num_1<num_2:\n",
    "    min_num=num_1\n",
    "else:\n",
    "    min_num=num_2\n",
    "\n",
    "# highest hcf in the possible ways is the lowest number taken.\n",
    "for i in range(1,min_num+1): \n",
    "    # highest iterated value which divides both numbers become the hcf.\n",
    "    if num_1%i==0 and num_2%i==0:\n",
    "          hcf=i\n",
    "        \n",
    "print(\"HCF of num_1 and num_2 is:\",hcf)"
   ]
  }
 ],
 "metadata": {
  "kernelspec": {
   "display_name": "Python 3",
   "language": "python",
   "name": "python3"
  },
  "language_info": {
   "codemirror_mode": {
    "name": "ipython",
    "version": 3
   },
   "file_extension": ".py",
   "mimetype": "text/x-python",
   "name": "python",
   "nbconvert_exporter": "python",
   "pygments_lexer": "ipython3",
   "version": "3.11.5"
  }
 },
 "nbformat": 4,
 "nbformat_minor": 2
}
