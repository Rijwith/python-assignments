{
 "cells": [
  {
   "cell_type": "code",
   "execution_count": 1,
   "metadata": {},
   "outputs": [
    {
     "name": "stdout",
     "output_type": "stream",
     "text": [
      "2 occurs 2 times\n",
      "3 occurs 2 times\n",
      "4 occurs 2 times\n",
      "7 occurs 2 times\n",
      "8 occurs 1 times\n",
      "5 occurs 2 times\n",
      "6 occurs 1 times\n"
     ]
    }
   ],
   "source": [
    "# Given a list of numbers, find out how many times each number occurs in the list.\n",
    "\n",
    "list_num=[2,3,4,7,8,3,5,6,4,2,7,5]\n",
    "list_new=[]\n",
    "for i in list_num:\n",
    "    # taking numbers without repeatation.\n",
    "    if i not in list_new:\n",
    "        list_new.append(i)\n",
    "for i in list_new:\n",
    "    count=0\n",
    "    for j in list_num:\n",
    "        # counting the value of repeatation by adding one for each time.\n",
    "        if i==j:\n",
    "            count+=1\n",
    "    print(i,\"occurs\",count,\"times\")"
   ]
  }
 ],
 "metadata": {
  "kernelspec": {
   "display_name": "Python 3",
   "language": "python",
   "name": "python3"
  },
  "language_info": {
   "codemirror_mode": {
    "name": "ipython",
    "version": 3
   },
   "file_extension": ".py",
   "mimetype": "text/x-python",
   "name": "python",
   "nbconvert_exporter": "python",
   "pygments_lexer": "ipython3",
   "version": "3.11.5"
  }
 },
 "nbformat": 4,
 "nbformat_minor": 2
}
