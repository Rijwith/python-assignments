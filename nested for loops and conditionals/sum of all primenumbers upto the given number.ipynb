{
 "cells": [
  {
   "cell_type": "code",
   "execution_count": null,
   "metadata": {},
   "outputs": [],
   "source": [
    "# Given a positive integers, find out the sum of all prime numbers from 1 up to this number.\n",
    "\n",
    "num_1=int(input(\"enter a number\"))\n",
    "if num_1<1:\n",
    "    print(\"enter a positive number\")\n",
    "else:\n",
    "    sum_prime=0\n",
    "    for i in range(2,num_1+1):\n",
    "        count=0\n",
    "        # choosing prime numbers upto the given number.\n",
    "        for j in range(2,int(i**0.5)+1):\n",
    "            if i%j==0:\n",
    "                count+=1\n",
    "        if count==0:\n",
    "            # adding prime numbers upto the given number.\n",
    "            sum_prime+=i\n",
    "    print(\"sum of prime numbers upto the given number is:\",sum_prime)"
   ]
  }
 ],
 "metadata": {
  "kernelspec": {
   "display_name": "Python 3",
   "language": "python",
   "name": "python3"
  },
  "language_info": {
   "codemirror_mode": {
    "name": "ipython",
    "version": 3
   },
   "file_extension": ".py",
   "mimetype": "text/x-python",
   "name": "python",
   "nbconvert_exporter": "python",
   "pygments_lexer": "ipython3",
   "version": "3.11.5"
  }
 },
 "nbformat": 4,
 "nbformat_minor": 2
}
