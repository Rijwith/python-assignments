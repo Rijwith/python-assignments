{
 "cells": [
  {
   "cell_type": "code",
   "execution_count": 1,
   "metadata": {},
   "outputs": [
    {
     "data": {
      "text/plain": [
       "\"it's present\""
      ]
     },
     "execution_count": 1,
     "metadata": {},
     "output_type": "execute_result"
    }
   ],
   "source": [
    "# given a string input, find out if it contains a particular substring\n",
    "\n",
    "def func_str(str_1):\n",
    "    str_main=\"Let's play football in the main ground.\"\n",
    "    # forming a list of substrings in the given main string.\n",
    "    lst_str= str_main.strip()\n",
    "    # checking the given word in the lst_str\n",
    "    if str_1 in lst_str:\n",
    "        return \"it's present\"\n",
    "    else:\n",
    "        return \"it's not present\"\n",
    "    \n",
    "func_str(\"football\")"
   ]
  }
 ],
 "metadata": {
  "kernelspec": {
   "display_name": "Python 3",
   "language": "python",
   "name": "python3"
  },
  "language_info": {
   "codemirror_mode": {
    "name": "ipython",
    "version": 3
   },
   "file_extension": ".py",
   "mimetype": "text/x-python",
   "name": "python",
   "nbconvert_exporter": "python",
   "pygments_lexer": "ipython3",
   "version": "3.11.5"
  }
 },
 "nbformat": 4,
 "nbformat_minor": 2
}
