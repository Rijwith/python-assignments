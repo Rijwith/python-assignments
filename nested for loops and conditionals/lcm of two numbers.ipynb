{
 "cells": [
  {
   "cell_type": "code",
   "execution_count": null,
   "metadata": {},
   "outputs": [],
   "source": [
    "# Given two numbers, find its Least Common Multiple (LCM).\n",
    "\n",
    "num_1=int(input(\"enter first number\"))\n",
    "print(\"num_1 =\",num_1)\n",
    "num_2=int(input(\"enter second number\"))\n",
    "print(\"num_2 =\",num_2)\n",
    "\n",
    "# check the max number.\n",
    "if num_1>num_2:\n",
    "    max_num=num_1\n",
    "else:\n",
    "    max_num=num_2\n",
    "\n",
    "# product of two numbers is the highest lcm in the possible ways. \n",
    "for i in range(max_num,(num_1*num_2)+1): \n",
    "    # the lowest iterated number divides to give zero is the lcm. \n",
    "    if i%num_1==0 and i%num_2==0:\n",
    "        lcm=i\n",
    "        break\n",
    "print(\"LCM of num_1 and num_2 is:\",lcm)"
   ]
  }
 ],
 "metadata": {
  "kernelspec": {
   "display_name": "Python 3",
   "language": "python",
   "name": "python3"
  },
  "language_info": {
   "codemirror_mode": {
    "name": "ipython",
    "version": 3
   },
   "file_extension": ".py",
   "mimetype": "text/x-python",
   "name": "python",
   "nbconvert_exporter": "python",
   "pygments_lexer": "ipython3",
   "version": "3.11.5"
  }
 },
 "nbformat": 4,
 "nbformat_minor": 2
}
