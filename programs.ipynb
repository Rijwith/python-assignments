{
 "cells": [
  {
   "cell_type": "markdown",
   "metadata": {},
   "source": [
    "Given a point in 2D space, find the quadrant in which it lies. "
   ]
  },
  {
   "cell_type": "code",
   "execution_count": null,
   "metadata": {},
   "outputs": [],
   "source": [
    "x=int(input(\"enter the value of x\"))                             # Enter the x-coordinate\n",
    "y=int(input(\"enter the value of y\"))                             # Enter the y-co0rdinate\n",
    "if x>0:\n",
    "    if y>0:\n",
    "        print(\"quadrant 1\")                                      # This case is for positive x, in this if y is positive then point lies in QUADRANT-1.\n",
    "    elif y<0:\n",
    "        print(\"quadrant 4\")                                      # If y is negative, then point lies in QUADRANT-4\n",
    "    else :\n",
    "        print(\"on x-axis\")                                       # If y is zero ,then point lies on x-axis\n",
    "elif x<0:\n",
    "    if y>0:\n",
    "        print(\"quadrant 2\")                                      # This case is for negative x, in this if y is positive then point lies in QUADRANT-2.\n",
    "    elif y<0:\n",
    "        print(\"quadrant 3\")                                      # If y is negative, then point lies in QUADRANT-3\n",
    "    else:\n",
    "        print(\"on x-axis\")                                       # If y is zero ,then point lies on x-axis\n",
    "else:\n",
    "    if x==0:                                                     # This case is for x=0\n",
    "        if y==0:\n",
    "            print(\"at origin\")                                   # If y is also at zero, then point is at origin\n",
    "        else:\n",
    "            print(\"on y-axis\")                                   # If y is a non-zero then point lies on y-axis\n"
   ]
  },
  {
   "cell_type": "markdown",
   "metadata": {},
   "source": [
    "Given a temperature in Fahrenheit, convert it to Celsius. If the temperature is below 10 degree celcius output cold, between 10 and 25 output pleasant, between 25 and 35 output warm, and above 35 output hot."
   ]
  },
  {
   "cell_type": "code",
   "execution_count": null,
   "metadata": {},
   "outputs": [],
   "source": [
    "f= float(input(\"temperature in fahrenheit :\"))                    # Enter fahrenheit \n",
    "c=(f - 32)*(5/9)                                                  # Celsius = (fahrenheit - 32) multiply by (5/9)\n",
    "print(\"temperature in celsius :\",c)\n",
    "if c <10 :\n",
    "    print(\"cold\")                                                 # If temperature is less than 10 degree celsius, it show as \"cold\".\n",
    "elif c<25:\n",
    "    print(\"pleasant\")                                             # If temperature is between 10 and 25 degree celsius, it show as\" pleasant\".\n",
    "elif c<35 :\n",
    "    print(\"warm\")                                                 # If temperature is between 25 and 35 degree celsius, it show as \"warm\".\n",
    "else:\n",
    "    print(\"hot\")                                                  # If temperature is abovre 35 degree celsius, it show as \"hot\"."
   ]
  },
  {
   "cell_type": "markdown",
   "metadata": {},
   "source": [
    " Given three points, find out whether they lie on the same straight line or not."
   ]
  },
  {
   "cell_type": "code",
   "execution_count": null,
   "metadata": {},
   "outputs": [],
   "source": [
    "\n",
    "x1=float(input(\"enter the x1 coordinate \"))\n",
    "y1=float(input(\"enter the y1 coordinate \"))\n",
    "x2=float(input(\"enter the x2 coordinate \"))                       # We need two co-ordinates for each point ,Likewise we need 3 points\n",
    "y2=float(input(\"enter the y2 coordinate \"))\n",
    "x3=float(input(\"enter the x3 coordinate \"))\n",
    "y3=float(input(\"enter the y3 coordinate \"))\n",
    "ab= ((x2-x1)**2 +(y2-y1)**2)**2                                   # By using distance formula : \"square root of square of (X2 -X1)+ square of (Y2-Y1)\"\n",
    "bc= ((x3-x2)**2 +(y3-y2)**2)**2\n",
    "ac= ((x3-x1)**2 +(y3-y1)**2)**2\n",
    "print(\"ab=\",ab)\n",
    "print(\"bc=\",bc)\n",
    "print(\"ac=\",ac)\n",
    "if (ab +bc)==ac:\n",
    "    print(\"its a straight line\")                                  # If sum of two distances is equal to third distance ,then three points lies on a straight line \n",
    "else:\n",
    "    print(\"not a straight line\")                                  # If sum of two distances is not equal to third distance ,then three points does not lies on a straight line"
   ]
  },
  {
   "cell_type": "markdown",
   "metadata": {},
   "source": [
    "Given a quadratic equation with coefficients a, b and c, find the two solutions (may be real or complex). You should not take the square root of a negative number in your code."
   ]
  },
  {
   "cell_type": "code",
   "execution_count": null,
   "metadata": {},
   "outputs": [],
   "source": [
    "a=float(input(\"enter the coefficient of x*2 :\"))\n",
    "b=float(input(\"enter the coefficient of x :\"))                   # Take inputs as per the user\n",
    "c=float(input(\"enter the constant :\"))\n",
    "d=b**2-4*a*c                                                     # Discriminant formula\n",
    "x1=(-b-(b**2-4*a*c)**0.5)/2*a\n",
    "x2=(-b+(b**2-4*a*c)**0.5)/2*a\n",
    "print(\"roots are\")\n",
    "print(x1)\n",
    "print(x2)\n",
    "if d>=0:                                                         # It will show as real roots if discriminant >= 0.\n",
    "    print(\"it has real roots\")\n",
    "else:                                                            # It will show as complex roots if discriminant < 0.\n",
    "    print(\"complex roots\")"
   ]
  },
  {
   "cell_type": "markdown",
   "metadata": {},
   "source": [
    "Given two points in 2D space, find the slope and y-intercept of the line joining them. Consider all cases"
   ]
  },
  {
   "cell_type": "code",
   "execution_count": null,
   "metadata": {},
   "outputs": [],
   "source": [
    "x1=float(input(\"enter the coordinate x1:\"))\n",
    "x2=float(input(\"enter the coordinate x2:\"))                      # Take the coordinates as per the user.\n",
    "y1=float(input(\"enter the coordinate y1:\"))\n",
    "y2=float(input(\"enter the coordinate y2:\"))\n",
    "if (x2-x1)!=0:\n",
    "    m=(y2-y1)/(x2-x1)                                            # m = Slope formula\n",
    "    print(\"slope is :\", m)\n",
    "    print(\"y-intercept is\",y1-(x1*m))\n",
    "else:\n",
    "    print(\"slope is not defined\")\n",
    "    print(\"y-intercept is infinity\")"
   ]
  },
  {
   "cell_type": "markdown",
   "metadata": {},
   "source": [
    "Given two numbers a and b, find a/b (b could be zero)"
   ]
  },
  {
   "cell_type": "code",
   "execution_count": null,
   "metadata": {},
   "outputs": [],
   "source": [
    "a=float(input(\"enter the numerator\"))                            # Take inputs from the user.\n",
    "b=float(input(\"enter the denominator\"))\n",
    "if b!=0:                                                         # by using conditional statements, if b equals to 0 it will show as not defined.\n",
    "    print(\"a/b =\",a/b)\n",
    "else:\n",
    "    print(\"it is not defined \")"
   ]
  },
  {
   "cell_type": "code",
   "execution_count": null,
   "metadata": {},
   "outputs": [],
   "source": []
  }
 ],
 "metadata": {
  "kernelspec": {
   "display_name": "Python 3",
   "language": "python",
   "name": "python3"
  },
  "language_info": {
   "codemirror_mode": {
    "name": "ipython",
    "version": 3
   },
   "file_extension": ".py",
   "mimetype": "text/x-python",
   "name": "python",
   "nbconvert_exporter": "python",
   "pygments_lexer": "ipython3",
   "version": "3.11.5"
  },
  "orig_nbformat": 4
 },
 "nbformat": 4,
 "nbformat_minor": 2
}
