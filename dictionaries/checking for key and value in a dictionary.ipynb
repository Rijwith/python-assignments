{
 "cells": [
  {
   "cell_type": "code",
   "execution_count": 1,
   "metadata": {},
   "outputs": [
    {
     "name": "stdout",
     "output_type": "stream",
     "text": [
      "d is not the key of sample_dict\n",
      "\n",
      "\n",
      "400 is not the value of sample_dict\n"
     ]
    }
   ],
   "source": [
    "# Check if a key exists in a dictionary: sample_dict = {'a': 100, 'b': 200, 'c': 300} key_needed = ‘d’\n",
    "\n",
    "sample_dict = {'a': 100, 'b': 200, 'c': 300}\n",
    "key_needed=\"d\"\n",
    "# checking for the key.\n",
    "if key_needed in sample_dict.keys():\n",
    "    print(key_needed,\"is the key of sample_dict\")   \n",
    "else:\n",
    "    print(key_needed,\"is not the key of sample_dict\")\n",
    "print(\"\\n\")\n",
    "\n",
    "\n",
    "# Check if a value exists in a dictionary: sample_dict = {'a': 100, 'b': 200, 'c': 300} value_needed = 200\n",
    "\n",
    "value_needed = 400\n",
    "# checking for the value.\n",
    "if value_needed in sample_dict.values():\n",
    "    print(value_needed,\"is the value of sample_dict\")\n",
    "else:\n",
    "    print(value_needed,\"is not the value of sample_dict\")"
   ]
  }
 ],
 "metadata": {
  "kernelspec": {
   "display_name": "Python 3",
   "language": "python",
   "name": "python3"
  },
  "language_info": {
   "codemirror_mode": {
    "name": "ipython",
    "version": 3
   },
   "file_extension": ".py",
   "mimetype": "text/x-python",
   "name": "python",
   "nbconvert_exporter": "python",
   "pygments_lexer": "ipython3",
   "version": "3.11.5"
  }
 },
 "nbformat": 4,
 "nbformat_minor": 2
}
