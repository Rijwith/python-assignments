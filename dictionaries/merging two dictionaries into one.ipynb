{
 "cells": [
  {
   "cell_type": "code",
   "execution_count": 3,
   "metadata": {},
   "outputs": [
    {
     "name": "stdout",
     "output_type": "stream",
     "text": [
      "the combined dict is: \n",
      " {'Ten': 10, 'Twenty': 20, 'Thirty': 30, 'Fourty': 40, 'Fifty': 50}\n"
     ]
    }
   ],
   "source": [
    "# Merge these two dictionaries into one using for loop.\n",
    "\n",
    "# initial dictionaries.\n",
    "dict1={'Ten':10,'Twenty':20,'Thirty':30}\n",
    "dict2={'Thirty':30,'Fourty':40,'Fifty':50}\n",
    "# copying dict1 directly into the new dict.\n",
    "dict_1_2=dict1.copy()\n",
    "for key,value in dict2.items():\n",
    "    # it takes keys from dict2 only if the keys of dict2 is different from dict1.\n",
    "    if key not in dict_1_2.keys():\n",
    "        dict_1_2[key]=value\n",
    "print(\"the combined dict is:\",\"\\n\",dict_1_2)"
   ]
  }
 ],
 "metadata": {
  "kernelspec": {
   "display_name": "Python 3",
   "language": "python",
   "name": "python3"
  },
  "language_info": {
   "codemirror_mode": {
    "name": "ipython",
    "version": 3
   },
   "file_extension": ".py",
   "mimetype": "text/x-python",
   "name": "python",
   "nbconvert_exporter": "python",
   "pygments_lexer": "ipython3",
   "version": "3.11.5"
  }
 },
 "nbformat": 4,
 "nbformat_minor": 2
}
