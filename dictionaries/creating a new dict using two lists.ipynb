{
 "cells": [
  {
   "cell_type": "code",
   "execution_count": 2,
   "metadata": {},
   "outputs": [
    {
     "name": "stdout",
     "output_type": "stream",
     "text": [
      "{'Ten': 10, 'Twenty': 20, 'Thirty': 30}\n"
     ]
    }
   ],
   "source": [
    "# Convert these two lists into a dictionary. Take the keys from the first list,and values from the second one.\n",
    "\n",
    "# intial two lists.\n",
    "keys=['Ten','Twenty','Thirty']\n",
    "values=[10,20,30]\n",
    "# length of the list.\n",
    "len_keys = len(keys)\n",
    "\n",
    "dict1={}\n",
    "for i in range(len_keys):\n",
    "    # taking keys and values by iterating length of the given list.\n",
    "    dict1[keys[i]]=values[i]\n",
    "print(dict1)"
   ]
  }
 ],
 "metadata": {
  "kernelspec": {
   "display_name": "Python 3",
   "language": "python",
   "name": "python3"
  },
  "language_info": {
   "codemirror_mode": {
    "name": "ipython",
    "version": 3
   },
   "file_extension": ".py",
   "mimetype": "text/x-python",
   "name": "python",
   "nbconvert_exporter": "python",
   "pygments_lexer": "ipython3",
   "version": "3.11.5"
  }
 },
 "nbformat": 4,
 "nbformat_minor": 2
}
