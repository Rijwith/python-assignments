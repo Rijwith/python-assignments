{
 "cells": [
  {
   "cell_type": "code",
   "execution_count": 2,
   "metadata": {},
   "outputs": [
    {
     "name": "stdout",
     "output_type": "stream",
     "text": [
      "{'name': 'Kelly', 'salary': 8000}\n"
     ]
    }
   ],
   "source": [
    "# Create a new dictionary so that it only has the keys mentioned in another list\n",
    "\n",
    "# initial dictionary.\n",
    "sample_dict = { \"name\": \"Kelly\", \"age\": 25, \"salary\": 8000, \"city\": \"New york\"}\n",
    "# Keys to extract\n",
    "keys = [\"name\", \"salary\"]\n",
    "new_dict={}\n",
    "for key in keys:\n",
    "    # checking for the existance of the key.\n",
    "    if key in sample_dict.keys():\n",
    "        new_dict[key]=sample_dict[key]\n",
    "    else:\n",
    "        print(\"keys not present in the sample_dict\")      \n",
    "print(new_dict)"
   ]
  }
 ],
 "metadata": {
  "kernelspec": {
   "display_name": "Python 3",
   "language": "python",
   "name": "python3"
  },
  "language_info": {
   "codemirror_mode": {
    "name": "ipython",
    "version": 3
   },
   "file_extension": ".py",
   "mimetype": "text/x-python",
   "name": "python",
   "nbconvert_exporter": "python",
   "pygments_lexer": "ipython3",
   "version": "3.11.5"
  }
 },
 "nbformat": 4,
 "nbformat_minor": 2
}
