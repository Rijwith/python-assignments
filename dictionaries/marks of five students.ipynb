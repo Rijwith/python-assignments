{
 "cells": [
  {
   "cell_type": "code",
   "execution_count": 4,
   "metadata": {},
   "outputs": [
    {
     "name": "stdout",
     "output_type": "stream",
     "text": [
      "{'Rijwith': [45, 30, 33], 'Roshan': [42, 42, 30], 'Joshwith': [38, 33, 29], 'Rinku': [36, 29, 44], 'Rijju': [39, 37, 26]}\n",
      "\n",
      "\n",
      "Rijwith\n",
      "Python : 45\n",
      "english : 30\n",
      "Maths : 33\n",
      "\n",
      "\n",
      "Roshan\n",
      "Python : 42\n",
      "english : 42\n",
      "Maths : 30\n",
      "\n",
      "\n",
      "Joshwith\n",
      "Python : 38\n",
      "english : 33\n",
      "Maths : 29\n",
      "\n",
      "\n",
      "Rinku\n",
      "Python : 36\n",
      "english : 29\n",
      "Maths : 44\n",
      "\n",
      "\n",
      "Rijju\n",
      "Python : 39\n",
      "english : 37\n",
      "Maths : 26\n",
      "\n",
      "\n"
     ]
    }
   ],
   "source": [
    "# Create a dictionary to store the total marks of 5 students in the class in 3 subjects (Course1, Course2, Course3).\n",
    "# The keys must be the student names, and the values must be the list of marks.\n",
    "# Create another list which has the course names in the same order as the marks are stored in the dictionary values.\n",
    "# Now write a nested for loop to print the marks for each student exam wise.\n",
    "\n",
    "course=[\"Python\",\"english\",\"Maths\"]\n",
    "dict_marks={}\n",
    "dict_marks[\"Rijwith\"]=[45,30,33]\n",
    "dict_marks[\"Roshan\"]=[42,42,30]\n",
    "dict_marks[\"Joshwith\"]=[38,33,29]\n",
    "dict_marks[\"Rinku\"]=[36,29,44]\n",
    "dict_marks[\"Rijju\"]=[39,37,26]\n",
    "print(dict_marks)\n",
    "print(\"\\n\")\n",
    "\n",
    "for key,value in dict_marks.items():\n",
    "    print(key)\n",
    "    for i in range(len(course)):\n",
    "        # printing individual marks in each course.\n",
    "        print(course[i],\":\",value[i])\n",
    "    print(\"\\n\")\n",
    "     "
   ]
  }
 ],
 "metadata": {
  "kernelspec": {
   "display_name": "Python 3",
   "language": "python",
   "name": "python3"
  },
  "language_info": {
   "codemirror_mode": {
    "name": "ipython",
    "version": 3
   },
   "file_extension": ".py",
   "mimetype": "text/x-python",
   "name": "python",
   "nbconvert_exporter": "python",
   "pygments_lexer": "ipython3",
   "version": "3.11.5"
  }
 },
 "nbformat": 4,
 "nbformat_minor": 2
}
