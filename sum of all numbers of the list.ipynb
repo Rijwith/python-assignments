{
 "cells": [
  {
   "cell_type": "code",
   "execution_count": 2,
   "metadata": {},
   "outputs": [
    {
     "name": "stdout",
     "output_type": "stream",
     "text": [
      "sum of numbers in the list_num is : 18\n"
     ]
    }
   ],
   "source": [
    "# Given a list of numbers, find the sum of all the numbers.\n",
    "\n",
    "list_num=[1,3,5,4,3,2]\n",
    "list_sum=0\n",
    "# iterating over the list.\n",
    "for i in list_num:\n",
    "    # adding each number of the list.\n",
    "    list_sum+=i\n",
    "print(\"sum of numbers in the list_num is :\",list_sum) "
   ]
  }
 ],
 "metadata": {
  "kernelspec": {
   "display_name": "Python 3",
   "language": "python",
   "name": "python3"
  },
  "language_info": {
   "codemirror_mode": {
    "name": "ipython",
    "version": 3
   },
   "file_extension": ".py",
   "mimetype": "text/x-python",
   "name": "python",
   "nbconvert_exporter": "python",
   "pygments_lexer": "ipython3",
   "version": "3.11.5"
  }
 },
 "nbformat": 4,
 "nbformat_minor": 2
}
