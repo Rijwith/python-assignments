{
 "cells": [
  {
   "cell_type": "code",
   "execution_count": null,
   "metadata": {},
   "outputs": [],
   "source": [
    "#5.Given a positive integer, find out the sum of all odd numbers from 1 up to this number.\n",
    "\n",
    "num1 = int(input(\"enter a positive number\"))\n",
    "if num1>0:\n",
    "    sumnum = 0\n",
    "    for i in range(1,num1+1,2):\n",
    "        sumnum+=i    # adding only odd numbers upto the given number.\n",
    "    print(sumnum)\n",
    "elif num1==0:\n",
    "    # entered number is 0.\n",
    "    print(\"sumnum = 0\")\n",
    "else:\n",
    "    # entered number is negative number.\n",
    "    print(\"please enter positive number\")      "
   ]
  }
 ],
 "metadata": {
  "kernelspec": {
   "display_name": "Python 3",
   "language": "python",
   "name": "python3"
  },
  "language_info": {
   "codemirror_mode": {
    "name": "ipython",
    "version": 3
   },
   "file_extension": ".py",
   "mimetype": "text/x-python",
   "name": "python",
   "nbconvert_exporter": "python",
   "pygments_lexer": "ipython3",
   "version": "3.11.5"
  }
 },
 "nbformat": 4,
 "nbformat_minor": 2
}
