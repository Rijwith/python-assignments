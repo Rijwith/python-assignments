{
 "cells": [
  {
   "cell_type": "code",
   "execution_count": 1,
   "metadata": {},
   "outputs": [],
   "source": [
    "# Given a positive integer, print each of its digits separately without converting the number into a string.\n",
    "\n",
    "def func_digits(a):\n",
    "    list_1=[]\n",
    "    if a>0:\n",
    "        while a>0:\n",
    "            x=a%10\n",
    "            a=a//10\n",
    "            list_1.append(x)\n",
    "        list_1.reverse()\n",
    "        return list_1\n",
    "    else:\n",
    "        return \"please enter a positive \""
   ]
  }
 ],
 "metadata": {
  "kernelspec": {
   "display_name": "Python 3",
   "language": "python",
   "name": "python3"
  },
  "language_info": {
   "codemirror_mode": {
    "name": "ipython",
    "version": 3
   },
   "file_extension": ".py",
   "mimetype": "text/x-python",
   "name": "python",
   "nbconvert_exporter": "python",
   "pygments_lexer": "ipython3",
   "version": "3.11.5"
  }
 },
 "nbformat": 4,
 "nbformat_minor": 2
}
