{
 "cells": [
  {
   "cell_type": "code",
   "execution_count": null,
   "metadata": {},
   "outputs": [],
   "source": [
    "# Given a positive integer, find all its divisors.\n",
    "\n",
    "def func_div(a):\n",
    "    list_div=[]\n",
    "    if a>0:\n",
    "        # iterating upto the given number.\n",
    "        for i in range(1,a+1):\n",
    "            # checking for the divisors.\n",
    "            if a%i==0:\n",
    "                list_div.append(i)\n",
    "        return list_div\n",
    "    else:\n",
    "        return \"please enter a positive number\""
   ]
  }
 ],
 "metadata": {
  "language_info": {
   "name": "python"
  }
 },
 "nbformat": 4,
 "nbformat_minor": 2
}
