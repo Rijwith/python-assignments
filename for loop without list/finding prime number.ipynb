{
 "cells": [
  {
   "cell_type": "code",
   "execution_count": null,
   "metadata": {},
   "outputs": [],
   "source": [
    "# Given a positive integer, find out if it’s prime or not.\n",
    "\n",
    "def prime_num(n):\n",
    "    if n<=1:\n",
    "        # prime number starts from 2.\n",
    "        return 'it is not a prime number'\n",
    "    else:\n",
    "        c=0\n",
    "        d=int(n**0.5)     # square root of the number.\n",
    "\n",
    "        # alliterating over square root of the given number.\n",
    "        for i in range(2,d+1):\n",
    "            # dividing the number taken with the alliterating numbers.\n",
    "            if n%i==0:\n",
    "                c+=1   # not prime.\n",
    "        # prime number when c is zero.\n",
    "        if c==0:\n",
    "            return 'it is a prime number'\n",
    "        else:\n",
    "            return 'it is not a prime number'\n",
    "    "
   ]
  }
 ],
 "metadata": {
  "kernelspec": {
   "display_name": "Python 3",
   "language": "python",
   "name": "python3"
  },
  "language_info": {
   "codemirror_mode": {
    "name": "ipython",
    "version": 3
   },
   "file_extension": ".py",
   "mimetype": "text/x-python",
   "name": "python",
   "nbconvert_exporter": "python",
   "pygments_lexer": "ipython3",
   "version": "3.11.5"
  }
 },
 "nbformat": 4,
 "nbformat_minor": 2
}
