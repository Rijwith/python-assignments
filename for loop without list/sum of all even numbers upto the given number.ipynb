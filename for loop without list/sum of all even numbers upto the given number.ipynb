{
 "cells": [
  {
   "cell_type": "code",
   "execution_count": null,
   "metadata": {},
   "outputs": [],
   "source": [
    "# Given a positive integer, find out the sum of all even numbers from 2 up to this number.\n",
    "\n",
    "def even_sum_num(n):\n",
    "    total_sum=0\n",
    "    # alliterating over the given number.\n",
    "    for i in range(2,n+1,2):\n",
    "        # total sum of even numbers upto the given number.\n",
    "        total_sum+=i \n",
    "    return total_sum"
   ]
  }
 ],
 "metadata": {
  "kernelspec": {
   "display_name": "Python 3",
   "language": "python",
   "name": "python3"
  },
  "language_info": {
   "codemirror_mode": {
    "name": "ipython",
    "version": 3
   },
   "file_extension": ".py",
   "mimetype": "text/x-python",
   "name": "python",
   "nbconvert_exporter": "python",
   "pygments_lexer": "ipython3",
   "version": "3.11.5"
  }
 },
 "nbformat": 4,
 "nbformat_minor": 2
}
