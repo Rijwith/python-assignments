{
 "cells": [
  {
   "cell_type": "code",
   "execution_count": 8,
   "metadata": {},
   "outputs": [
    {
     "name": "stdout",
     "output_type": "stream",
     "text": [
      "entered number is : 2\n",
      "sum of int upto this number is : 3\n"
     ]
    }
   ],
   "source": [
    "# Given a positive integer, find out the sum of all integers from 1 up to this number.\n",
    "\n",
    "num1=int(input(\"enter an integer\"))    #taking input from user\n",
    "print(\"entered number is :\",num1)\n",
    "if num1>0:\n",
    "    # for num1 positive.\n",
    "    sumnum=0\n",
    "    # Taking sum upto the number.\n",
    "    for i in range(1,num1+1):\n",
    "        sumnum+=i\n",
    "    print(\"sum of int upto this number is :\",sumnum)\n",
    "elif num1==0:\n",
    "    print(\"sumnum = 0\")\n",
    "else:\n",
    "    # for num1 negative\n",
    "    print(\"This is not a positive integer\")"
   ]
  }
 ],
 "metadata": {
  "kernelspec": {
   "display_name": "Python 3",
   "language": "python",
   "name": "python3"
  },
  "language_info": {
   "codemirror_mode": {
    "name": "ipython",
    "version": 3
   },
   "file_extension": ".py",
   "mimetype": "text/x-python",
   "name": "python",
   "nbconvert_exporter": "python",
   "pygments_lexer": "ipython3",
   "version": "3.11.5"
  }
 },
 "nbformat": 4,
 "nbformat_minor": 2
}
