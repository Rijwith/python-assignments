{
 "cells": [
  {
   "cell_type": "code",
   "execution_count": null,
   "metadata": {},
   "outputs": [],
   "source": [
    "# Given a positive integer, print all integers from 1 up to this number\n",
    "\n",
    "num1=int(input(\"enter an integer :\"))#taking the input from user\n",
    "print(\"entered number is\",num1)\n",
    "if num1>0:\n",
    "        # alliterating upto the given number.\n",
    "        for i in range(1,num1+1):\n",
    "                print(i)\n",
    "else:\n",
    "        print(\"This is not a positive integer\")"
   ]
  }
 ],
 "metadata": {
  "language_info": {
   "name": "python"
  }
 },
 "nbformat": 4,
 "nbformat_minor": 2
}
