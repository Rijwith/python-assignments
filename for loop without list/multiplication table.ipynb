{
 "cells": [
  {
   "cell_type": "code",
   "execution_count": 5,
   "metadata": {},
   "outputs": [
    {
     "name": "stdout",
     "output_type": "stream",
     "text": [
      "3 * 1 = 3\n",
      "3 * 2 = 6\n",
      "3 * 3 = 9\n",
      "3 * 4 = 12\n",
      "3 * 5 = 15\n",
      "3 * 6 = 18\n",
      "3 * 7 = 21\n",
      "3 * 8 = 24\n",
      "3 * 9 = 27\n",
      "3 * 10 = 30\n"
     ]
    }
   ],
   "source": [
    "# Given a positive integer, find the multiplication table of that integer up to 10.\n",
    "\n",
    "num = int(input(\"enter a number\"))\n",
    "# finding product for positive numbers.\n",
    "if num>=1:\n",
    "    prod=0\n",
    "    # iterating the numbers upto 10.\n",
    "    for i in range(1,11):\n",
    "        prod = i*num   # product.\n",
    "        # multiplication table.\n",
    "        print(num,\"*\",i,\"=\",prod)\n",
    "else:\n",
    "    print(\"please enter a positive number\")"
   ]
  }
 ],
 "metadata": {
  "kernelspec": {
   "display_name": "Python 3",
   "language": "python",
   "name": "python3"
  },
  "language_info": {
   "codemirror_mode": {
    "name": "ipython",
    "version": 3
   },
   "file_extension": ".py",
   "mimetype": "text/x-python",
   "name": "python",
   "nbconvert_exporter": "python",
   "pygments_lexer": "ipython3",
   "version": "3.11.5"
  }
 },
 "nbformat": 4,
 "nbformat_minor": 2
}
