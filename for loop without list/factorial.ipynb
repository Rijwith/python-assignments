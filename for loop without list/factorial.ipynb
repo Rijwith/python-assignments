{
 "cells": [
  {
   "cell_type": "code",
   "execution_count": null,
   "metadata": {},
   "outputs": [],
   "source": [
    "# Given a positive integer, find out its factorial.\n",
    "\n",
    "def factorial(n):\n",
    "    # assigning variable equals to 1.\n",
    "    fact=1 \n",
    "    if n>0:\n",
    "        # alliterating over given number.\n",
    "        for i in range(2,n+1):\n",
    "            fact*=i     # counts factorial\n",
    "        return fact\n",
    "    else:\n",
    "        # for negative numbers.\n",
    "        return 'invalid input'  "
   ]
  }
 ],
 "metadata": {
  "kernelspec": {
   "display_name": "Python 3",
   "language": "python",
   "name": "python3"
  },
  "language_info": {
   "codemirror_mode": {
    "name": "ipython",
    "version": 3
   },
   "file_extension": ".py",
   "mimetype": "text/x-python",
   "name": "python",
   "nbconvert_exporter": "python",
   "pygments_lexer": "ipython3",
   "version": "3.11.5"
  }
 },
 "nbformat": 4,
 "nbformat_minor": 2
}
