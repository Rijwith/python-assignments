{
 "cells": [
  {
   "cell_type": "code",
   "execution_count": null,
   "metadata": {},
   "outputs": [],
   "source": [
    "# Given three points, find out whether they lie on the same straight line or not\n",
    "\n",
    "x1=float(input(\"enter the 1st number\"))\n",
    "y1=float(input(\"enter the 2nd number\"))      # take inputs for the points.\n",
    "print(\"1st point is (\",x1,\",\",y1,\")\")\n",
    "\n",
    "x2=float(input(\"enter the 1st number\"))\n",
    "y2=float(input(\"enter the 2nd number\"))\n",
    "print(\"2nd point is (\",x2,\",\",y2,\")\")\n",
    "\n",
    "x3=float(input(\"enter the 1st number\"))\n",
    "y3=float(input(\"enter the 2nd number\"))\n",
    "print(\"3rd point is (\",x3,\",\",y3,\")\")\n",
    "\n",
    "# area of the triangle formed by 3 points.\n",
    "area=(1/2)*(x1*(y2-y3)+x2*(y3-y1)+x3*(y1-y2))\n",
    "print(\"area of triangle formed by given 3 points :\", abs(area))\n",
    "if area==0:\n",
    "    # if area = 0 ,then 3 points lies on a straight line.\n",
    "    print(\"this points are on same line\")\n",
    "else:\n",
    "    # if area not equal to zero , then points don't lie on straight line.\n",
    "    print(\"these points are not on same line\")"
   ]
  }
 ],
 "metadata": {
  "kernelspec": {
   "display_name": "Python 3",
   "language": "python",
   "name": "python3"
  },
  "language_info": {
   "codemirror_mode": {
    "name": "ipython",
    "version": 3
   },
   "file_extension": ".py",
   "mimetype": "text/x-python",
   "name": "python",
   "nbconvert_exporter": "python",
   "pygments_lexer": "ipython3",
   "version": "3.11.5"
  }
 },
 "nbformat": 4,
 "nbformat_minor": 2
}
