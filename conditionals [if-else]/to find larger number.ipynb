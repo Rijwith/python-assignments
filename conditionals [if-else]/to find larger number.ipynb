{
 "cells": [
  {
   "cell_type": "code",
   "execution_count": 18,
   "metadata": {},
   "outputs": [
    {
     "name": "stdout",
     "output_type": "stream",
     "text": [
      "x = 2647\n",
      "y = 5457\n",
      "5457  is greater\n"
     ]
    }
   ],
   "source": [
    "x,y =input(\" enter a number\").split()\n",
    "print(\"x =\",x)\n",
    "print(\"y =\",y)\n",
    "if x>y:\n",
    "    print(x,\" is greater\")\n",
    "elif y>x:\n",
    "    print(y,\" is greater\")\n",
    "else:\n",
    "    print(\" both numbers are equal\")"
   ]
  },
  {
   "cell_type": "code",
   "execution_count": null,
   "metadata": {},
   "outputs": [],
   "source": []
  },
  {
   "cell_type": "code",
   "execution_count": null,
   "metadata": {},
   "outputs": [],
   "source": []
  }
 ],
 "metadata": {
  "kernelspec": {
   "display_name": "Python 3",
   "language": "python",
   "name": "python3"
  },
  "language_info": {
   "codemirror_mode": {
    "name": "ipython",
    "version": 3
   },
   "file_extension": ".py",
   "mimetype": "text/x-python",
   "name": "python",
   "nbconvert_exporter": "python",
   "pygments_lexer": "ipython3",
   "version": "3.11.5"
  }
 },
 "nbformat": 4,
 "nbformat_minor": 2
}
