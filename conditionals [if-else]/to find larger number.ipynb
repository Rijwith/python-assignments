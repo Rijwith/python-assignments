{
 "cells": [
  {
   "cell_type": "code",
   "execution_count": null,
   "metadata": {},
   "outputs": [],
   "source": [
    "x =int(input(\" enter a number\"))\n",
    "y =int(input(\" enter a number\"))\n",
    "print(\"x =\",x,\" and y =\",y)\n",
    "# using comparison operator to check which is greater\n",
    "if x>y:\n",
    "    print(x,\" is greater\")\n",
    "elif y>x:\n",
    "    print(y,\" is greater\")\n",
    "else:\n",
    "    print(\" both numbers are equal\")"
   ]
  }
 ],
 "metadata": {
  "kernelspec": {
   "display_name": "Python 3",
   "language": "python",
   "name": "python3"
  },
  "language_info": {
   "codemirror_mode": {
    "name": "ipython",
    "version": 3
   },
   "file_extension": ".py",
   "mimetype": "text/x-python",
   "name": "python",
   "nbconvert_exporter": "python",
   "pygments_lexer": "ipython3",
   "version": "3.11.5"
  }
 },
 "nbformat": 4,
 "nbformat_minor": 2
}
