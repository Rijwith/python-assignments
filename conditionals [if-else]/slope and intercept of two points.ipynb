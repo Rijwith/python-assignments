{
 "cells": [
  {
   "cell_type": "code",
   "execution_count": null,
   "metadata": {},
   "outputs": [],
   "source": [
    "# Given two points (x1, y1) and (x2, y2), find the slope and intercept.\n",
    "x1=float(input(\"enter a number\"))\n",
    "x2=float(input(\"enter a number\"))\n",
    "y1=float(input(\"enter a number\"))\n",
    "y2=float(input(\"enter a number\"))\n",
    "print(\"1st point is (\",x1,\",\",y1,\")\")\n",
    "print(\"2nd point is (\",x2,\",\",y2,\")\")\n",
    "if x2-x1==0:\n",
    "    # x2-x1 equals zero gives slope of 90 degree.\n",
    "    print(\"slope is 90 degree\")\n",
    "    print(\"y intercept of the line is 0 as it is parallel to y axis.\")\n",
    "else:\n",
    "# formula of slope\n",
    "    slope= (y2-y1)/(x2-x1)\n",
    "    print(\"slope =\",slope)\n",
    "    # intercept = y1-(slope*x1)\n",
    "    print(\"y intercept of the line is\",y1-slope*x1)"
   ]
  }
 ],
 "metadata": {
  "kernelspec": {
   "display_name": "Python 3",
   "language": "python",
   "name": "python3"
  },
  "language_info": {
   "codemirror_mode": {
    "name": "ipython",
    "version": 3
   },
   "file_extension": ".py",
   "mimetype": "text/x-python",
   "name": "python",
   "nbconvert_exporter": "python",
   "pygments_lexer": "ipython3",
   "version": "3.11.5"
  }
 },
 "nbformat": 4,
 "nbformat_minor": 2
}
