{
 "cells": [
  {
   "cell_type": "code",
   "execution_count": null,
   "metadata": {},
   "outputs": [],
   "source": [
    "a = float(input(\"enter a number\"))\n",
    "b = float(input(\"enter a number\"))\n",
    "print(\"a =\",a,\"and b =\",b)\n",
    "# avoiding zero division error by applying if condition before division\n",
    "if b == 0:\n",
    "    print(\"a/b is not defined\")\n",
    "else:\n",
    "    print(\"a/b =\",a/b)"
   ]
  }
 ],
 "metadata": {
  "kernelspec": {
   "display_name": "Python 3",
   "language": "python",
   "name": "python3"
  },
  "language_info": {
   "codemirror_mode": {
    "name": "ipython",
    "version": 3
   },
   "file_extension": ".py",
   "mimetype": "text/x-python",
   "name": "python",
   "nbconvert_exporter": "python",
   "pygments_lexer": "ipython3",
   "version": "3.11.5"
  }
 },
 "nbformat": 4,
 "nbformat_minor": 2
}
