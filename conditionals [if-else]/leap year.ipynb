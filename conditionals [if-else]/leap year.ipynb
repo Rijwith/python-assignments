{
 "cells": [
  {
   "cell_type": "code",
   "execution_count": null,
   "metadata": {},
   "outputs": [],
   "source": [
    "leap_year=int(input(\"enter a number\"))\n",
    "# if the year is divisible by 400 that is leap year.\n",
    "if leap_year % 400 == 0:\n",
    "    print(leap_year,\"is a leap year\")\n",
    "# if the year is divisible by 100 that is not a leap year.\n",
    "elif leap_year%100 ==0:\n",
    "    print(leap_year,\"is not a leap year\")\n",
    "# if the year is divisible by 4 that is leap year.\n",
    "elif leap_year%4 ==0:\n",
    "    print(leap_year,\"is a leap year\")\n",
    "# other than above statements year will be not a leap year.\n",
    "else:\n",
    "    print(leap_year,\"is not a leap year\")"
   ]
  }
 ],
 "metadata": {
  "kernelspec": {
   "display_name": "Python 3",
   "language": "python",
   "name": "python3"
  },
  "language_info": {
   "codemirror_mode": {
    "name": "ipython",
    "version": 3
   },
   "file_extension": ".py",
   "mimetype": "text/x-python",
   "name": "python",
   "nbconvert_exporter": "python",
   "pygments_lexer": "ipython3",
   "version": "3.11.5"
  }
 },
 "nbformat": 4,
 "nbformat_minor": 2
}
