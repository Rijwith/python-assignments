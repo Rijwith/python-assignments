{
 "cells": [
  {
   "cell_type": "code",
   "execution_count": null,
   "metadata": {},
   "outputs": [],
   "source": [
    "# Take input from user.\n",
    "a=int(input(\"enter a number\"))\n",
    "b=int(input(\"enter a number\"))\n",
    "c=int(input(\"enter a number\"))\n",
    "print(\"a =\",a)\n",
    "print(\"b =\",b)\n",
    "print(\"c =\",c)\n",
    "# Checking the smallest number.\n",
    "if a<b and a<c:\n",
    "    print(a,\"is smallest\")\n",
    "elif b<c:\n",
    "    print(b,\"is smallest\")\n",
    "else:\n",
    "    print(c,\"is smallest\")"
   ]
  }
 ],
 "metadata": {
  "kernelspec": {
   "display_name": "Python 3",
   "language": "python",
   "name": "python3"
  },
  "language_info": {
   "codemirror_mode": {
    "name": "ipython",
    "version": 3
   },
   "file_extension": ".py",
   "mimetype": "text/x-python",
   "name": "python",
   "nbconvert_exporter": "python",
   "pygments_lexer": "ipython3",
   "version": "3.11.5"
  }
 },
 "nbformat": 4,
 "nbformat_minor": 2
}
