{
 "cells": [
  {
   "cell_type": "code",
   "execution_count": null,
   "metadata": {},
   "outputs": [],
   "source": [
    "\n",
    "#8. Given a quadratic equation with coefficients a, b and c. Find the two solutions.\n",
    "\n",
    "a=float(input(\"enter a number\"))\n",
    "print(\"a:\",a)\n",
    "b=float(input(\"enter a number\"))       # take input for a,b,c.\n",
    "print(\"b:\",b)\n",
    "c=float(input(\"enter a number\"))\n",
    "print(\"c:\",c)\n",
    "if a==0:\n",
    "    # if a = 0, it forms a linear equation.\n",
    "    print(\"a should not be zero to form a quadratic equation\")\n",
    "else:\n",
    "    # formula to find discriminant.\n",
    "    disc= (b**2)-4*a*c\n",
    "    if disc>0:\n",
    "        # discriminant greater than zero gives real roots.\n",
    "        print(\"the real solutions are \",(-b+(disc**0.5))/(2*a) ,\"and \",(-b-(disc**0.5))/(2*a))\n",
    "    elif disc==0:\n",
    "        # dicriminant equals to zero gives same roots.\n",
    "        print(\"equation have two equal and real roots :\",-b/(2*a))\n",
    "    else:\n",
    "        #discriminant less than zero gives imaginary roots.\n",
    "        \n",
    "        realpart=-b/(2*a)         # real part of the root\n",
    "        imagpart=((-disc)**0.5)/(2*a)        # imaginary part of the root.\n",
    "\n",
    "        print(\"imaginary root 1:\",realpart,\"+\",imagpart,\"i\")\n",
    "        print(\"imaginary Root 2:\",realpart,\"-\",imagpart,\"i\")"
   ]
  }
 ],
 "metadata": {
  "kernelspec": {
   "display_name": "Python 3",
   "language": "python",
   "name": "python3"
  },
  "language_info": {
   "codemirror_mode": {
    "name": "ipython",
    "version": 3
   },
   "file_extension": ".py",
   "mimetype": "text/x-python",
   "name": "python",
   "nbconvert_exporter": "python",
   "pygments_lexer": "ipython3",
   "version": "3.11.5"
  }
 },
 "nbformat": 4,
 "nbformat_minor": 2
}
