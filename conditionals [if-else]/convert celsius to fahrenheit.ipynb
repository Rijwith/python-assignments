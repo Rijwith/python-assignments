{
 "cells": [
  {
   "cell_type": "code",
   "execution_count": 8,
   "metadata": {},
   "outputs": [
    {
     "name": "stdout",
     "output_type": "stream",
     "text": [
      "Temperature in celsius is 33.0\n",
      "Temperature in fahrenheit is 91.4\n",
      "It's hot outside!\n"
     ]
    }
   ],
   "source": [
    "celsius = float(input(\"enter a number\"))\n",
    "fahrenheit= (celsius*1.8)+32\n",
    "print(\"Temperature in celsius is\",celsius)\n",
    "print(\"Temperature in fahrenheit is\",fahrenheit)\n",
    "if fahrenheit > 90:\n",
    "    print(\"It's hot outside!\")\n",
    "else:\n",
    "    print(\"The temperature is pleasant\")"
   ]
  },
  {
   "cell_type": "code",
   "execution_count": null,
   "metadata": {},
   "outputs": [],
   "source": []
  }
 ],
 "metadata": {
  "kernelspec": {
   "display_name": "Python 3",
   "language": "python",
   "name": "python3"
  },
  "language_info": {
   "codemirror_mode": {
    "name": "ipython",
    "version": 3
   },
   "file_extension": ".py",
   "mimetype": "text/x-python",
   "name": "python",
   "nbconvert_exporter": "python",
   "pygments_lexer": "ipython3",
   "version": "3.11.5"
  }
 },
 "nbformat": 4,
 "nbformat_minor": 2
}
