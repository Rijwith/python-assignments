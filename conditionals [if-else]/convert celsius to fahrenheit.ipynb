{
 "cells": [
  {
   "cell_type": "code",
   "execution_count": null,
   "metadata": {},
   "outputs": [],
   "source": [
    "celsius = float(input(\"enter a number\"))\n",
    "fahrenheit= (celsius*1.8)+32                 \n",
    "# converting celsius into fahrenheit\n",
    "print(\"Temperature in celsius is\",celsius)\n",
    "print(\"Temperature in fahrenheit is\",fahrenheit)\n",
    "# commenting on the temperature\n",
    "if fahrenheit > 90:\n",
    "    print(\"It's hot outside!\")\n",
    "else:\n",
    "    print(\"The temperature is pleasant\")"
   ]
  }
 ],
 "metadata": {
  "kernelspec": {
   "display_name": "Python 3",
   "language": "python",
   "name": "python3"
  },
  "language_info": {
   "codemirror_mode": {
    "name": "ipython",
    "version": 3
   },
   "file_extension": ".py",
   "mimetype": "text/x-python",
   "name": "python",
   "nbconvert_exporter": "python",
   "pygments_lexer": "ipython3",
   "version": "3.11.5"
  }
 },
 "nbformat": 4,
 "nbformat_minor": 2
}
