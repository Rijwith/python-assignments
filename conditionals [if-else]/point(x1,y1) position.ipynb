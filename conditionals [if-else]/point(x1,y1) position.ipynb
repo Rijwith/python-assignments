{
 "cells": [
  {
   "cell_type": "code",
   "execution_count": null,
   "metadata": {},
   "outputs": [],
   "source": [
    "x1 = float(input(\"enter a number\"))\n",
    "y1 = float(input(\"enter a number\"))\n",
    "print(\"x1 :\",x1)\n",
    "print(\"y1 :\",y1)\n",
    "# if x1 and y1 are positive point is in first quadrant\n",
    "if x1>0 and y1>0:\n",
    "    print(\"(\",x1,\",\",y1,\") lies in 1st quadrant\")\n",
    "# if x1 positive and y1 negative point is in forth quadrant\n",
    "elif x1>0 and y1<0:\n",
    "    print(\"(\",x1,\",\",y1,\") lies in 4th quadrant\")\n",
    "# if x1 negative and y1 are positive point is in second quadrant\n",
    "elif x1<0 and y1>0:\n",
    "    print(\"(\",x1,\",\",y1,\") lies in 2nd quadrant\")\n",
    "# if x1 negative and y1 are negative point is in third quadrant\n",
    "elif x1<0 and y1<0:\n",
    "    print(\"(\",x1,\",\",y1,\") lies in 3rd quadrant\")\n",
    "# if x1 is zero and y1 is not zero point is on y axis\n",
    "elif x1==0 and y1!=0:\n",
    "    print(\"(\",x1,\",\",y1,\") lies on the y-axis\")\n",
    "# if x1 is not zero and y1 is zero  point is on x axis\n",
    "elif x1!=0 and y1==0:\n",
    "    print(\"(\",x1,\",\",y1,\") lies on the x-axis\")\n",
    "# if x1 and y1 are zero point is origin\n",
    "else:\n",
    "    print(\"(\",x1,\",\",y1,\") lies on the origin\")"
   ]
  }
 ],
 "metadata": {
  "kernelspec": {
   "display_name": "Python 3",
   "language": "python",
   "name": "python3"
  },
  "language_info": {
   "codemirror_mode": {
    "name": "ipython",
    "version": 3
   },
   "file_extension": ".py",
   "mimetype": "text/x-python",
   "name": "python",
   "nbconvert_exporter": "python",
   "pygments_lexer": "ipython3",
   "version": "3.11.5"
  }
 },
 "nbformat": 4,
 "nbformat_minor": 2
}
