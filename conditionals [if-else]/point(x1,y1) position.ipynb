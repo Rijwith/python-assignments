{
 "cells": [
  {
   "cell_type": "code",
   "execution_count": 16,
   "metadata": {},
   "outputs": [
    {
     "name": "stdout",
     "output_type": "stream",
     "text": [
      "x1 : 0.0\n",
      "y1 : 0.0\n",
      "( 0.0 , 0.0 ) lies on the origin\n"
     ]
    }
   ],
   "source": [
    "x1 = float(input(\"enter a number\"))\n",
    "y1 = float(input(\"enter a number\"))\n",
    "print(\"x1 :\",x1)\n",
    "print(\"y1 :\",y1)\n",
    "if x1>0 and y1>0:\n",
    "    print(\"(\",x1,\",\",y1,\") lies in 1st quadrant\")\n",
    "elif x1>0 and y1<0:\n",
    "    print(\"(\",x1,\",\",y1,\") lies in 4th quadrant\")\n",
    "elif x1<0 and y1>0:\n",
    "    print(\"(\",x1,\",\",y1,\") lies in 2nd quadrant\")\n",
    "elif x1<0 and y1<0:\n",
    "    print(\"(\",x1,\",\",y1,\") lies in 3rd quadrant\")\n",
    "elif x1==0 and y1!=0:\n",
    "    print(\"(\",x1,\",\",y1,\") lies on the y-axis\")\n",
    "elif x1!=0 and y1==0:\n",
    "    print(\"(\",x1,\",\",y1,\") lies on the x-axis\")\n",
    "else:\n",
    "    print(\"(\",x1,\",\",y1,\") lies on the origin\")"
   ]
  },
  {
   "cell_type": "code",
   "execution_count": null,
   "metadata": {},
   "outputs": [],
   "source": []
  }
 ],
 "metadata": {
  "kernelspec": {
   "display_name": "Python 3",
   "language": "python",
   "name": "python3"
  },
  "language_info": {
   "codemirror_mode": {
    "name": "ipython",
    "version": 3
   },
   "file_extension": ".py",
   "mimetype": "text/x-python",
   "name": "python",
   "nbconvert_exporter": "python",
   "pygments_lexer": "ipython3",
   "version": "3.11.5"
  }
 },
 "nbformat": 4,
 "nbformat_minor": 2
}
