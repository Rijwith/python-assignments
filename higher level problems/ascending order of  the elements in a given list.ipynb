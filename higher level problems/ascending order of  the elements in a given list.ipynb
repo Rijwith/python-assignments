{
 "cells": [
  {
   "cell_type": "code",
   "execution_count": 16,
   "metadata": {},
   "outputs": [
    {
     "name": "stdout",
     "output_type": "stream",
     "text": [
      "ascending order of the numbers in the list \n",
      " [1, 2, 3, 3, 4, 5, 7]\n"
     ]
    }
   ],
   "source": [
    "#1. Given a list of numbers, sort it in ascending order.\n",
    "\n",
    "lst_1=[3,5,3,2,7,4,1]\n",
    "# not to disturb the initial list, creating a new list.\n",
    "lst_2=lst_1.copy()\n",
    "lst_ascend=[]\n",
    "# iterating length of the list.\n",
    "for x in range(len(lst_1)):\n",
    "    num=lst_2[0]   # taking first number of the list as minimum.\n",
    "    # iterating the values of the list.\n",
    "    for i in lst_2:\n",
    "        # for i is less than than num, then num becomes i.\n",
    "        if i < num:\n",
    "            num=i\n",
    "    # append the new num into the list.\n",
    "    lst_ascend.append(num)\n",
    "    # remove the num appended above from the initial list.\n",
    "    lst_2.remove(num)\n",
    "print(\"ascending order of the numbers in the list\",\"\\n\",lst_ascend)"
   ]
  }
 ],
 "metadata": {
  "kernelspec": {
   "display_name": "Python 3",
   "language": "python",
   "name": "python3"
  },
  "language_info": {
   "codemirror_mode": {
    "name": "ipython",
    "version": 3
   },
   "file_extension": ".py",
   "mimetype": "text/x-python",
   "name": "python",
   "nbconvert_exporter": "python",
   "pygments_lexer": "ipython3",
   "version": "3.11.5"
  }
 },
 "nbformat": 4,
 "nbformat_minor": 2
}
