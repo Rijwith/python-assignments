{
 "cells": [
  {
   "cell_type": "code",
   "execution_count": 16,
   "metadata": {},
   "outputs": [
    {
     "data": {
      "text/plain": [
       "'.-. .. .--- .-- .. - .... '"
      ]
     },
     "execution_count": 16,
     "metadata": {},
     "output_type": "execute_result"
    }
   ],
   "source": [
    "# Create a Morse code translator.\n",
    "\n",
    "# converting letters into morse code.\n",
    "def conv_morse(str_1):\n",
    "    # storing a specific code to each character in dictionary\n",
    "    dict_symbol={'A':'.-','B':'-...','C':'-.-.','D':'-..','E':'.','F':'..-.','G':'--.','H':'....','I':'..','J':'.---','K':'-.-','L':'.-..','M':'--','N': '-.','O':'---','P':'.--.','Q':'--.-','R':'.-.','S':'...','T':'-','U':'..-','V':'...-','W':'.--','X':'-..-','Y':'-.--','Z':'--..', \n",
    "            'a':'.-','b':'-...','c':'-.-.','d':'-..','e':'.','f':'..-.','g':'--.','h':'....','i':'..','j':'.---','k':'-.-','l':'.-..','m':'--','n':'-.', 'o':'---','p':'.--.','q':'--.-','r':'.-.','s':'...','t':'-','u':'..-','v':'...-','w':'.--','x':'-..-','y':'-.--','z':'--..',\n",
    "            '0':'-----','1':'.----','2':'..---','3':'...--','4':'....-','5':'.....','6':'-....','7':'--...','8':'---..','9':'----.',\n",
    "            '?':'..--..',',':'--..--',' ':' '}\n",
    "    \n",
    "    str_2=''\n",
    "    # iterating each character of the given string.\n",
    "    for i in str_1:\n",
    "        if i in dict_symbol.keys():\n",
    "            # appending the morse code of the respective character \n",
    "            # concatinate a space to distinguish the code after converting each character.\n",
    "            str_2+=dict_symbol[i]+' '\n",
    "    return str_2\n",
    "\n",
    "conv_morse(\"rijwith\")\n"
   ]
  },
  {
   "cell_type": "code",
   "execution_count": 15,
   "metadata": {},
   "outputs": [
    {
     "data": {
      "text/plain": [
       "'rijwith'"
      ]
     },
     "execution_count": 15,
     "metadata": {},
     "output_type": "execute_result"
    }
   ],
   "source": [
    "# converting morse code into letters.\n",
    "def conv_word(str_1):\n",
    "    dict_sym={'.-': 'a', '-...': 'b', '-.-.': 'c', '-..': 'd', '.': 'e', '..-.': 'f', '--.': 'g', '....': 'h', '..': 'i', '.---': 'j', '-.-': 'k', '.-..': 'l', '--': 'm', '-.': 'n', '---': 'o', '.--.': 'p', '--.-': 'q', '.-.': 'r', '...': 's', '-': 't', '..-': 'u', '...-': 'v', '.--': 'w', '-..-': 'x', '-.--': 'y', '--..': 'z', '-----': '0', '.----': '1', '..---': '2', '...--': '3', '....-': '4', '.....': '5', '-....': '6', '--...': '7', '---..': '8', '----.': '9', '..--..': '?', '--..--': ',',' ': ' ' }#symbols for words to morse code\n",
    "    str_2=''\n",
    "    # iterating the string by splitting the morse code by the spaces.\n",
    "    for i in str_1.split():\n",
    "        if i in dict_sym.keys():\n",
    "            # append the letters of the respective morse code given in the dictionary.\n",
    "            str_2+=dict_sym[i]\n",
    "    return str_2\n",
    "\n",
    "conv_word('.-. .. .--- .-- .. - ....')"
   ]
  }
 ],
 "metadata": {
  "kernelspec": {
   "display_name": "Python 3",
   "language": "python",
   "name": "python3"
  },
  "language_info": {
   "codemirror_mode": {
    "name": "ipython",
    "version": 3
   },
   "file_extension": ".py",
   "mimetype": "text/x-python",
   "name": "python",
   "nbconvert_exporter": "python",
   "pygments_lexer": "ipython3",
   "version": "3.11.5"
  }
 },
 "nbformat": 4,
 "nbformat_minor": 2
}
