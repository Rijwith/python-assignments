{
 "cells": [
  {
   "cell_type": "code",
   "execution_count": 11,
   "metadata": {},
   "outputs": [
    {
     "name": "stdout",
     "output_type": "stream",
     "text": [
      "[1, 1, 2, 2, 2, 3, 3, 3, 4, 4, 5, 6, 7, 7, 7, 8]\n",
      "\n",
      "\n",
      "median of the given list is : 3.5\n",
      "\n",
      "\n",
      "{1: 2, 2: 3, 3: 3, 4: 2, 5: 1, 6: 1, 7: 3, 8: 1}\n",
      "mode of the given list: [2, 3, 7]\n"
     ]
    }
   ],
   "source": [
    "# Given a list of numbers, find out the median and mode.\n",
    "\n",
    "# sorting the list into an ascending order before finding median.\n",
    "lst_1=[1,2,3,4,1,2,3,2,3,4,6,7,5,7,8,7]\n",
    "lst_2=lst_1.copy()\n",
    "lst_ascend=[]\n",
    "# iterating length of the list.\n",
    "for x in range(len(lst_1)):\n",
    "    num=lst_2[0]   # taking first number of the list as minimum.\n",
    "    # iterating the values of the list.\n",
    "    for i in lst_2:\n",
    "        # for i is less than than num, then num becomes i.\n",
    "        if i < num:\n",
    "            num=i\n",
    "    # append the new num into the list.\n",
    "    lst_ascend.append(num)\n",
    "    # remove the num appended above from the initial list.\n",
    "    lst_2.remove(num)\n",
    "print(lst_ascend)\n",
    "print(\"\\n\")\n",
    "\n",
    "# finding the median.\n",
    "if len(lst_1)%2 == 0:\n",
    "    # even list has two numbers in middle after sorting in an order.\n",
    "    mid_1 = lst_ascend[(len(lst_1))//2-1]\n",
    "    mid_2 = lst_ascend[(len(lst_1))//2]\n",
    "    # average of middle 2 numbers.\n",
    "    median = (mid_1 + mid_2)/2\n",
    "    print(\"median of the given list is :\",median)\n",
    "\n",
    "else:\n",
    "    # median is the middle number of the list after sorting in an order for odd list.\n",
    "    median = lst_ascend[(len(lst_1))//2-1]\n",
    "    print(\"median of the given list is :\",median)\n",
    "print(\"\\n\")\n",
    "\n",
    "# mode.\n",
    "lst_3=[]\n",
    "dict_freq={}\n",
    "for i in lst_ascend:\n",
    "    # appending keys for the dictionary.\n",
    "    if i not in lst_3:\n",
    "        lst_3.append(i)\n",
    "\n",
    "for i in lst_3:\n",
    "    count=0\n",
    "    for x in lst_ascend:\n",
    "        # appending values to a dictionary for respective keys.\n",
    "        if x==i:\n",
    "            count+=1\n",
    "    dict_freq[i]=count\n",
    "print(dict_freq)\n",
    "\n",
    "max_freq=0\n",
    "for value in dict_freq.values():\n",
    "    # searching for maximum frquency in values.\n",
    "    if value>max_freq:\n",
    "        max_freq = value\n",
    "mode=[]\n",
    "for key,value in dict_freq.items():\n",
    "    # number which has maximum frequency is the mode of that given list.\n",
    "    if value==max_freq:\n",
    "        mode.append(key)\n",
    "print(\"mode of the given list:\",mode)"
   ]
  }
 ],
 "metadata": {
  "kernelspec": {
   "display_name": "Python 3",
   "language": "python",
   "name": "python3"
  },
  "language_info": {
   "codemirror_mode": {
    "name": "ipython",
    "version": 3
   },
   "file_extension": ".py",
   "mimetype": "text/x-python",
   "name": "python",
   "nbconvert_exporter": "python",
   "pygments_lexer": "ipython3",
   "version": "3.11.5"
  }
 },
 "nbformat": 4,
 "nbformat_minor": 2
}
