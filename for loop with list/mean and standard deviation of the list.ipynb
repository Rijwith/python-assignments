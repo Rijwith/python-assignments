{
 "cells": [
  {
   "cell_type": "code",
   "execution_count": 5,
   "metadata": {},
   "outputs": [
    {
     "name": "stdout",
     "output_type": "stream",
     "text": [
      "mean of list_num is : 6.0\n",
      "standard deviation is : 3.9157800414902435\n"
     ]
    }
   ],
   "source": [
    "# Given a list of numbers, find out the mean and standard deviation.\n",
    "\n",
    "list_num=[4,5,1,4,9,13]\n",
    "len_list=0\n",
    "sum_list=0\n",
    "# finding sum and length of list by iteration on list_num.\n",
    "for i in list_num:\n",
    "    len_list+=1\n",
    "    sum_list+=i\n",
    "# formula of mean\n",
    "mean = sum_list/len_list\n",
    "s_dev=0\n",
    "for i in list_num:\n",
    "    #standard deviation : SD=((mean-num)**2/length)**0.5 \n",
    "    s_dev+=(mean-i)**2\n",
    "SD=(s_dev/len_list)**0.5\n",
    "print(\"mean of list_num is :\",mean)\n",
    "print(\"standard deviation is :\",SD)"
   ]
  }
 ],
 "metadata": {
  "kernelspec": {
   "display_name": "Python 3",
   "language": "python",
   "name": "python3"
  },
  "language_info": {
   "codemirror_mode": {
    "name": "ipython",
    "version": 3
   },
   "file_extension": ".py",
   "mimetype": "text/x-python",
   "name": "python",
   "nbconvert_exporter": "python",
   "pygments_lexer": "ipython3",
   "version": "3.11.5"
  }
 },
 "nbformat": 4,
 "nbformat_minor": 2
}
