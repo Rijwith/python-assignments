{
 "cells": [
  {
   "cell_type": "code",
   "execution_count": 1,
   "metadata": {},
   "outputs": [
    {
     "name": "stdout",
     "output_type": "stream",
     "text": [
      "[4, 6, 8, 4, 0]\n"
     ]
    }
   ],
   "source": [
    "# Given a list of numbers, find all the even numbers in it.\n",
    "\n",
    "list_1=[4,6,7,8,5,4,3,1,0]\n",
    "list_even=[]\n",
    "for i in list_1:\n",
    "    if i%2 ==0:\n",
    "        # appending the numbers divisible by 2.\n",
    "        list_even.append(i)\n",
    "print(list_even)\n"
   ]
  }
 ],
 "metadata": {
  "kernelspec": {
   "display_name": "Python 3",
   "language": "python",
   "name": "python3"
  },
  "language_info": {
   "codemirror_mode": {
    "name": "ipython",
    "version": 3
   },
   "file_extension": ".py",
   "mimetype": "text/x-python",
   "name": "python",
   "nbconvert_exporter": "python",
   "pygments_lexer": "ipython3",
   "version": "3.11.5"
  }
 },
 "nbformat": 4,
 "nbformat_minor": 2
}
