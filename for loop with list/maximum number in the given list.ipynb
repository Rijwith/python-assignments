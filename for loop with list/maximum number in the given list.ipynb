{
 "cells": [
  {
   "cell_type": "code",
   "execution_count": 3,
   "metadata": {},
   "outputs": [
    {
     "name": "stdout",
     "output_type": "stream",
     "text": [
      "maximum number in the given list : 9\n"
     ]
    }
   ],
   "source": [
    "# Given a list of numbers, find out the maximum number.\n",
    "\n",
    "list_num=[2,4,8,5,3,9,6]\n",
    "max_num=0\n",
    "# iterating over the list.\n",
    "for i in list_num:\n",
    "    # comparing each number with max_num.\n",
    "    if i>max_num:\n",
    "        # max_num takes the value of i, when i is greater than max_num.\n",
    "        max_num=i\n",
    "print(\"maximum number in the given list :\",max_num)"
   ]
  }
 ],
 "metadata": {
  "kernelspec": {
   "display_name": "Python 3",
   "language": "python",
   "name": "python3"
  },
  "language_info": {
   "codemirror_mode": {
    "name": "ipython",
    "version": 3
   },
   "file_extension": ".py",
   "mimetype": "text/x-python",
   "name": "python",
   "nbconvert_exporter": "python",
   "pygments_lexer": "ipython3",
   "version": "3.11.5"
  }
 },
 "nbformat": 4,
 "nbformat_minor": 2
}
