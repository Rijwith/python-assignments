{
 "cells": [
  {
   "cell_type": "code",
   "execution_count": 1,
   "metadata": {},
   "outputs": [
    {
     "name": "stdout",
     "output_type": "stream",
     "text": [
      "[7, 5, 3, 1]\n"
     ]
    }
   ],
   "source": [
    "\n",
    "# Given a list of numbers, find all the odd numbers in it.\n",
    "\n",
    "list_1=[4,6,7,8,5,4,3,1,0]\n",
    "list_odd=[]\n",
    "for i in list_1:\n",
    "    if i%2 !=0:\n",
    "        # appending the numbers not divisible by 2.\n",
    "        list_odd.append(i)\n",
    "print(list_odd)"
   ]
  }
 ],
 "metadata": {
  "kernelspec": {
   "display_name": "Python 3",
   "language": "python",
   "name": "python3"
  },
  "language_info": {
   "codemirror_mode": {
    "name": "ipython",
    "version": 3
   },
   "file_extension": ".py",
   "mimetype": "text/x-python",
   "name": "python",
   "nbconvert_exporter": "python",
   "pygments_lexer": "ipython3",
   "version": "3.11.5"
  }
 },
 "nbformat": 4,
 "nbformat_minor": 2
}
