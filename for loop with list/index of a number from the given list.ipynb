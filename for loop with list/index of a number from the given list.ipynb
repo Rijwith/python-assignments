{
 "cells": [
  {
   "cell_type": "code",
   "execution_count": 4,
   "metadata": {},
   "outputs": [
    {
     "name": "stdout",
     "output_type": "stream",
     "text": [
      "6\n"
     ]
    }
   ],
   "source": [
    "# Given a list of numbers, find out the index of another given number.\n",
    "\n",
    "list_num=[4,6,7,8,5,4,3,1,0]\n",
    "num=3\n",
    "# checking the number actually exists in the list or not.\n",
    "if num in list_num:\n",
    "    count=0\n",
    "    for i in list_num:\n",
    "        if num!=i:\n",
    "            # number not equals to given number adds 0ne to the count.\n",
    "            count+=1\n",
    "        if num==i:\n",
    "            # breaking the loop not to continue further.\n",
    "            break\n",
    "            \n",
    "    print(count)\n",
    "if num not in list_num:\n",
    "    # number is not in the given list.\n",
    "    print(num,\"is in the list\")"
   ]
  }
 ],
 "metadata": {
  "kernelspec": {
   "display_name": "Python 3",
   "language": "python",
   "name": "python3"
  },
  "language_info": {
   "codemirror_mode": {
    "name": "ipython",
    "version": 3
   },
   "file_extension": ".py",
   "mimetype": "text/x-python",
   "name": "python",
   "nbconvert_exporter": "python",
   "pygments_lexer": "ipython3",
   "version": "3.11.5"
  }
 },
 "nbformat": 4,
 "nbformat_minor": 2
}
